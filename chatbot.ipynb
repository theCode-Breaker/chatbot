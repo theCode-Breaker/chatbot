{
 "cells": [
  {
   "cell_type": "code",
   "execution_count": 1,
   "id": "bd39bc6b-3a77-4b0d-8edc-3d5f6222313b",
   "metadata": {},
   "outputs": [],
   "source": [
    "import requests\n",
    "import bs4"
   ]
  },
  {
   "cell_type": "code",
   "execution_count": 2,
   "id": "b0d85159-7ccf-4b45-900e-b27071d8e3fc",
   "metadata": {},
   "outputs": [
    {
     "output_type": "stream",
     "name": "stdout",
     "text": [
      "Found it\n"
     ]
    }
   ],
   "source": [
    "base_url=input('Enter the wikipedia link from which you want to train your bot: ')\n",
    "r = requests.get(base_url)\n",
    "if (r.status_code == 200):\n",
    "  print('Found it')\n",
    "else:\n",
    "  print('Could not find it')"
   ]
  },
  {
   "cell_type": "code",
   "execution_count": 3,
   "id": "48fac1eb-151b-47ea-8e6c-a765f24557e7",
   "metadata": {},
   "outputs": [],
   "source": [
    "soup = bs4.BeautifulSoup(r.text,'html.parser')"
   ]
  },
  {
   "cell_type": "code",
   "execution_count": 4,
   "id": "b2c03d11-eb30-4414-a29d-9313a7d79a04",
   "metadata": {},
   "outputs": [],
   "source": [
    "headers = []\n",
    "for url in soup.findAll(\"h3\"):\n",
    "    headers.append(url.text)\n",
    "    #print(url.text)"
   ]
  },
  {
   "cell_type": "code",
   "execution_count": 5,
   "id": "9dfca338-72c2-4acf-ab17-7801ee48ad4f",
   "metadata": {},
   "outputs": [],
   "source": [
    "i = len(headers) - 1\n",
    "counter = 0\n",
    "while counter <= i:\n",
    "    if headers[counter].startswith('\\n'):\n",
    "        headers.pop(counter)\n",
    "        counter -= 1\n",
    "    counter += 1\n",
    "    i = len(headers) -1\n",
    "#print(headers)"
   ]
  },
  {
   "cell_type": "code",
   "execution_count": 6,
   "id": "40216bda-8e78-4d98-9e62-d89d9b264a81",
   "metadata": {},
   "outputs": [],
   "source": [
    "r = requests.get(base_url)\n",
    "all_para = \"\"\n",
    "soup = bs4.BeautifulSoup(r.text,'html.parser')\n",
    "for iteri in range(len(headers)):\n",
    "    deet = soup.find('h3', text = headers[iteri]) # Search for div tags of class 'entry-content content'\n",
    "    for para in deet.find_next_siblings(): # Within these tags, find all p tags\n",
    "        if para.name == \"h2\" or para.name == \"h3\":\n",
    "            break\n",
    "        elif para.name == \"p\":\n",
    "            all_para += para.get_text()\n",
    "            all_para += '\\n'"
   ]
  },
  {
   "cell_type": "code",
   "execution_count": 7,
   "id": "1fbd0538-fb52-4b6c-b2f7-c42ec4b249f0",
   "metadata": {},
   "outputs": [],
   "source": [
    "with open('./wiki.txt', 'wb') as file_handler:\n",
    "        file_handler.write(all_para.encode('utf8'))"
   ]
  },
  {
   "cell_type": "code",
   "execution_count": 8,
   "metadata": {},
   "outputs": [],
   "source": [
    "import nltk # to process text data\n",
    "import numpy as np # to represent corpus as arrays\n",
    "import random \n",
    "import string # to process standard python strings\n",
    "from sklearn.metrics.pairwise import cosine_similarity # We will use this later to decide how similar two sentences are\n",
    "from sklearn.feature_extraction.text import TfidfVectorizer # Remember when you built a function to create a tfidf bag of words in Experience 2? This function does the same thing!"
   ]
  },
  {
   "cell_type": "code",
   "execution_count": 9,
   "metadata": {},
   "outputs": [],
   "source": [
    "#nltk.download('punkt')\n",
    "#nltk.download('wordnet')"
   ]
  },
  {
   "cell_type": "code",
   "execution_count": 10,
   "metadata": {},
   "outputs": [],
   "source": [
    "filepath='wiki.txt'\n",
    "corpus=open(filepath,'r',errors = 'ignore')\n",
    "raw_data=corpus.read()\n",
    "#print(raw_data)"
   ]
  },
  {
   "cell_type": "code",
   "execution_count": 11,
   "metadata": {},
   "outputs": [],
   "source": [
    "raw_data=raw_data.lower() \n",
    "#print(raw_data)"
   ]
  },
  {
   "cell_type": "code",
   "execution_count": 12,
   "metadata": {},
   "outputs": [],
   "source": [
    "sent_tokens=nltk.sent_tokenize(raw_data) \n",
    "#print(sent_tokens)"
   ]
  },
  {
   "cell_type": "code",
   "execution_count": 13,
   "metadata": {},
   "outputs": [
    {
     "output_type": "stream",
     "name": "stdout",
     "text": [
      "printing lists in new line\nin 1971, george lucas wanted to film an adaptation of the flash gordon serial, but could not obtain the rights, so he began developing his own space opera.\n[43][d] after directing american graffiti (1973), he wrote a two-page synopsis, which 20th century fox decided to invest in.\n[44][45] by 1974, he had expanded the story into the first draft of a screenplay.\n[46] the 1977 movie's success led lucas to make it the basis of an elaborate film serial.\n[47] with the backstory he created for the sequel, lucas decided that the series would be a trilogy of trilogies.\n[48] most of the main cast would return for the two additional installments of the original trilogy, which were self-financed by lucasfilm.\nstar wars was released on may 25, 1977, and first subtitled episode iv: a new hope in the 1979 book the art of star wars.\n[49] episode v: the empire strikes back was released on may 21, 1980, also achieving wide financial and critical success.\nthe final film in the trilogy, episode vi: return of the jedi was released on may 25, 1983. the story of the original trilogy focuses on luke skywalker's quest to become a jedi, his struggle with the evil imperial agent darth vader, and the struggle of the rebel alliance to free the galaxy from the clutches of the galactic empire.\naccording to producer gary kurtz, loose plans for a prequel trilogy were developed during the outlining of the original two films.\n[50] in 1980, lucas confirmed that he had the nine-film series plotted,[51] but due to the stress of producing the original trilogy, he had decided to cancel further sequels by 1981.\n[52] in 1983, lucas explained that \"there was never a script completed that had the entire story as it exists now ... as the stories unfolded, i would take certain ideas and save them ... i kept taking out all the good parts, and i just kept telling myself i would make other movies someday.\n\"[53]\n\ntechnical advances in the late 1980s and early 1990s, including the ability to create computer-generated imagery (cgi), inspired lucas to consider that it might be possible to revisit his saga.\nin 1989, lucas stated that the prequels would be \"unbelievably expensive.\n\"[54] in 1992, he acknowledged that he had plans to create the prequel trilogy.\n[55] a theatrical rerelease of the original trilogy in 1997 \"updated\" the 20-year-old films with the style of cgi envisioned for the new trilogy.\nepisode i: the phantom menace was released on may 19, 1999, and episode ii: attack of the clones on may 16, 2002. episode iii: revenge of the sith, the first pg-13 film in the franchise, was released on may 19, 2005.\n[56] the first two movies were met with mixed reviews, with the third being received somewhat more positively.\nthe trilogy begins 32 years before episode iv and follows the jedi training of anakin skywalker, luke's father, and his eventual fall from grace and transformation into the sith lord darth vader, as well as the corruption of the galactic republic and rise of the empire led by darth sidious.\ntogether with the original trilogy, lucas has collectively referred to the first six episodic films of the franchise as \"the tragedy of darth vader\".\n[57]\n\nprior to releasing the original film, and made possible by its success, lucas planned \"three trilogies of nine films.\n\"[48][58] he announced this to time in 1978,[59] and confirmed that he had outlined them in 1981.\n[60] at various stages of development, the sequel trilogy was to focus on the rebuilding of the republic,[61] the return of luke in a role similar to that of obi-wan in the original trilogy,[58] luke's sister (not yet determined to be leia),[50] han, leia,[62] r2-d2 and c-3po.\n[48][63] however, after beginning work on the prequel trilogy, lucas insisted that star wars was meant to be a six-part series and that there would be no sequel trilogy.\n[64][65]\n\nlucas decided to leave the franchise in the hands of other filmmakers, announcing in january 2012 that he would make no more star wars films.\n[66] in october of that year, the walt disney company agreed to buy lucasfilm and announced that episode vii would be released in 2015.\n[67] the co-chairman of lucasfilm, kathleen kennedy, became president of the company and served as executive producer of new star wars feature films.\n[68] lucas provided kennedy his story treatments for the sequels during the 2012 sale,[69] but in 2015 it was revealed lucas's sequel outline had been discarded.\n[70][71] the sequel trilogy also meant the end of the existing star wars expanded universe, which was discarded from canon to give \"maximum creative freedom to the filmmakers and also preserve an element of surprise and discovery for the audience.\n\"[2]\n\nepisode vii: the force awakens was released on december 16, 2015, episode viii: the last jedi on december 13, 2017, and episode ix: the rise of skywalker on december 18, 2019, in many countries.\n[f] the force awakens and the last jedi were both critical and box office successes.\n[72][73] episode ix received a mixed reception from critics and audiences.\n[74] the sequel trilogy starts 30 years after episode vi and focuses on the journey of the force-sensitive orphan rey, guided by luke skywalker.\nalong with ex-stormtrooper finn and ace x-wing pilot poe dameron, rey helps the resistance, led by leia, fight the first order, commanded by han and leia's son (and luke's nephew), kylo ren.\nlucasfilm and kennedy have stated that the standalone films would be referred to as the star wars anthology series[35] (though the word anthology has not been used in any of the titles, instead carrying the promotional \"a star wars story\" subtitle).\nfocused on how the rebels obtained the death star plans introduced in the 1977 film, the first anthology film, rogue one: a star wars story, was released on december 16, 2016, to favorable reviews and box office success.\nthe second, solo: a star wars story, centered on a young han solo with chewbacca and lando as supporting characters, was released on may 25, 2018, to generally favorable reviews and underperformance at the box office.\ndespite this, more anthology films are expected to be released,[75] following a hiatus after 2019's the rise of skywalker.\n[76]\n\nstar wars in print predates the release of the first film, with the november 1976 novelization of star wars, initially subtitled \"from the adventures of luke skywalker\".\ncredited to lucas, it was ghostwritten by alan dean foster.\n[92] the first \"expanded universe\" story appeared in marvel comics' star wars #7 in january 1978 (the first six issues being an adaptation of the film), followed by foster's sequel novel splinter of the mind's eye the following month.\nafter penning the novelization of the original film, foster followed it with the sequel splinter of the mind's eye (1978).\nthe novelizations of the empire strikes back (1980) by donald f. glut and return of the jedi (1983) by james kahn followed, as well as the han solo adventures trilogy (1979–1980) by brian daley,[93] and the adventures of lando calrissian trilogy (1983) by l. neil smith.\n[94][95]\n\ntimothy zahn's bestselling thrawn trilogy (1991–1993) reignited interest in the franchise and introduced the popular characters grand admiral thrawn, mara jade, talon karrde, and gilad pellaeon.\n[96][97][98][99] the first novel, heir to the empire, reached #1 on the new york times best seller list,[100] and the series finds luke, leia, and han facing off against tactical genius thrawn, who is plotting to retake the galaxy for the empire.\n[101] in the courtship of princess leia (1994) by dave wolverton, set immediately before the thrawn trilogy, leia considers an advantageous political marriage to prince isolder of the planet hapes,  but she and han ultimately marry.\n[102][103] steve perry's shadows of the empire (1996), set between the empire strikes back and return of the jedi, was part of a multimedia campaign that included a comic book series and video game.\n[104][105] the novel introduced the crime lord prince xizor, another popular character who would appear in multiple other works.\n[104][106] other notable series from bantam include the jedi academy trilogy (1994) by kevin j. anderson,[107][108] the 14-book young jedi knights series (1995–1998) by anderson and rebecca moesta,[108][109] and the x-wing series (1996–2012) by michael a. stackpole and aaron allston.\n[110][111][112]\n\ndel rey took over star wars book publishing in 1999, releasing what would become a 19-installment novel series called the new jedi order (1999–2003).\nwritten by multiple authors, the series was set 25 to 30 years after the original films and introduced the yuuzhan vong, a powerful alien race attempting to invade and conquer the entire galaxy.\n[113][114] the bestselling multi-author series legacy of the force (2006–2008) chronicles the crossover of han and leia's son jacen solo to the dark side of the force; among his evil deeds, he kills luke's wife mara jade as a sacrifice to join the sith.\nalthough no longer canon, the story is paralleled in the force awakens with han and leia's son ben solo, who has become the dark kylo ren.\n[115][116][117][118]\n\nthree series set in the prequel era were introduced for younger audiences: the 18-book jedi apprentice (1999–2002) chronicles the adventures of obi-wan kenobi and his master qui-gon jinn in the years before the phantom menace; the 11-book jedi quest (2001–2004) follows obi-wan and his own apprentice, anakin skywalker in between the phantom menace and attack of the clones; and the 10-book the last of the jedi (2005–2008), set almost immediately after revenge of the sith, features obi-wan and the last few surviving jedi.\nalthough thrawn had been designated a legends character in 2014, he was reintroduced into the canon in the 2016 third season of rebels, with zahn returning to write more novels based in the character, and set in the new canon.\n[119][120]\n\nmarvel comics published a star wars comic book series from 1977 to 1986.\n[121][122][123][124] original star wars comics were serialized in the marvel magazine pizzazz between 1977 and 1979. the 1977 installments were the first original star wars stories not directly adapted from the films to appear in print form, as they preceded those of the star wars comic series.\n[125] from 1985 to 1987, the animated children's series ewoks and droids inspired comic series from marvel's star comics line.\n[126][127][128] according to marvel comics former editor-in-chief jim shooter, the strong sales of star wars comics saved marvel financially in 1977 and 1978.\n[129] marvel's star wars series was one of the industry's top selling titles in 1979 and 1980.\n[130] the only downside for marvel was that the 100,000 copy sales quota was surpassed quickly, allowing lippincott to renegotiate the royalty arrangements from a position of strength.\n[131]\n\nin the late 1980s, marvel dropped a new star wars comic it had in development, which was picked up by dark horse comics and published as the popular dark empire series (1991–1995).\n[132] dark horse subsequently launched dozens of series set after the original film trilogy, including tales of the jedi (1993–1998), x-wing rogue squadron (1995–1998), star wars: republic (1998–2006), star wars tales (1999–2005), star wars: empire (2002–2006), and knights of the old republic (2006–2010).\n[133][134]\n\nafter disney's acquisition of lucasfilm, it was announced in january 2014 that in 2015 the star wars comics license would return to marvel comics,[135] whose parent company, marvel entertainment, disney had purchased in 2009.\n[136] launched in 2015, the first three publications were titled star wars, darth vader, and the limited series princess leia.\n[137][138][139]\n\nfirst announced as project luminous at star wars celebration in april 2019, full details of a publishing initiative called star wars: the high republic were revealed in a press conference in february 2020. involving the majority of the current officially licensed publishers, a new era set 200 years before the skywalker saga will be explored in various books and comics.\nthese include ongoing titles by marvel and idw publishing, written by cavan scott and daniel josé older respectively, that will both premiere in august 2020.\n[140]\n\njohn williams composed the soundtracks for the nine episodic films; he has stated that he will retire from the franchise with the rise of skywalker.\n[141] he also composed han solo's theme for solo: a star wars story; john powell adapted and composed the rest of the score.\n[142] michael giacchino composed the score of rogue one.\n[142] ludwig göransson scored and composed the music of the mandalorian.\n[143] williams also created the main theme for galaxy's edge.\n[144]\n\nthe first star wars audio work is the story of star wars, an lp using audio samples from the original film and a new narration to retell the story, released in 1977. most later printed novels were adapted into audio novels, usually released on cassette tape and re-released on cd.\nas of 2019, audio-only novels have been released not directly based on printed media.\n[145]\n\nradio adaptations of the films were also produced.\nlucas, a fan of the npr-affiliated campus radio station of his alma mater the university of southern california, licensed the star wars radio rights to kusc-fm for us$1.\nthe production used john williams's original film score, along with ben burtt's sound effects.\n[146][147]\n\nthe first was written by science-fiction author brian daley and directed by john madden.\nit was broadcast on national public radio in 1981, adapting the original 1977 film into 13 episodes.\n[148][146][147] mark hamill and anthony daniels reprised their film roles.\n[148][146]\n\nthe overwhelming success, led to a 10-episode adaptation of the empire strikes back debuted in 1983.\n[149] billy dee williams joined the other two stars, reprising his role as lando calrissian.\n[150]\n\nin 1983, buena vista records released an original, 30-minute star wars audio drama titled rebel mission to ord mantell, written by daley.\n[147][151] in the 1990s, time warner audio publishing adapted several star wars series from dark horse comics into audio dramas: the three-part dark empire saga, tales of the jedi, dark lords of the sith, the dark forces trilogy, and crimson empire (1998).\n[151] return of the jedi was adapted into 6-episodes in 1996, featuring daniels.\n[146][151]\n\nthe star wars franchise has spawned over one hundred[152] computer, video, and board games, dating back to some of the earliest home consoles.\nsome are based directly on the movie material, while others rely heavily on the non-canonical expanded universe (rebranded as star wars legends and removed from the canon in 2014).\nstar wars games have gone through three significant development eras, marked by a change in leadership among the developers: the early licensed games, those developed after the creation of lucasarts, and those created after the closure of the lucasfilm division by disney and the transfer of the license to electronic arts.\nthe first officially licensed electronic star wars game was kenner's 1979 table-top star wars electronic battle command.\n[153][154] in 1982, parker brothers published the first star wars video game for the atari 2600, star wars: the empire strikes back,[155] followed soon the year later by star wars: jedi arena, the first video game to depict lightsaber combat.\nthey were followed in 1983 by atari's rail shooter arcade game star wars, with vector graphics to replicate the death star trench run scene from the 1977 film.\n[156] the next game, star wars: return of the jedi (1984), has more traditional raster graphics,[157] while the following star wars: the empire strikes back (1985) has vector graphics.\n[158]\n\nplatform games were made for the nintendo entertainment system, including the japan-exclusive star wars (1987), an international star wars (1991), and star wars: the empire strikes back (1992).\nsuper star wars (1992) was released for the super nintendo entertainment system, with two sequels over the next two years.\nlucasfilm founded its own video game company in 1982, becoming best known for adventure games and world war ii flight combat games, but as george lucas took more interest in the increasing success of the video game market, he wanted to have more creative control over the games and founded his own development company, lucasarts.\nimproved graphics allowed games to tell complex narratives, which allowed for the retelling of the films, and eventually original narratives set in the same continuity, with voice-overs and cgi cutscenes.\nin 1993, lucasarts released star wars: x-wing, the first self-published star wars video game and the first space flight simulator based on the franchise.\n[159] it was one of the best-selling video games of 1993 and established its own series of games.\n[159] the rogue squadron series was released between 1998 and 2003, also focusing on space battles set during the films.\ndark forces (1995), a hybrid adventure game incorporating puzzles and strategy,[160] was the first star wars first-person shooter.\n[161] it featured gameplay and graphical features not then common in other games, made possible by lucasarts' custom-designed game engine, the jedi.\n[161][160][162][163] the game was well received,[164][165][166] and it was followed by four sequels.\n[167][168] the series introduced kyle katarn, who would appear in multiple games, novels, and comics.\n[169] katarn is a former stormtrooper who joins the rebellion and becomes a jedi,[161][170][171] a plot arc similar to that of finn in the sequel trilogy films.\n[115] a massively multiplayer online role-playing game, star wars galaxies, was in operation from 2003 until 2011. after disney bought lucasfilm, lucasarts ceased its role as a developer in 2013, although it still operates as a licensor.\n[172]\n\nfollowing its acquisition of the franchise, disney reassigned video game rights to electronic arts.\ngames made during this era are considered canonical, and feature more influence from the star wars filmmakers.\ndisney partnered with lenovo to create the augmented reality video game jedi challenges, released in november 2017.\n[173][174] in august 2018, it was announced that zynga would publish free-to-play star wars mobile games.\n[175] the battlefront games received a canonical reboot in 2017. jedi: fallen order was released in november 2019 and star wars: squadrons was released in october 2020.\n\nin addition to the disneyland ride star tours (1987) and its successor, star tours: the adventures continue (2011), many live attractions have been held at disney parks, including the travelling exhibition where science meets imagination, the space mountain spin-off hyperspace mountain, a walkthrough launch bay, and the night-time a galactic spectacular.\nan immersive themed area called galaxy's edge (2019) opened at disneyland and opened at walt disney world in mid-2019.\n[176]  a themed hotel, star wars: galactic starcruiser, is currently under construction at walt disney world.\n[177]\n\na multimedia project involves works released across multiple types of media.\nshadows of the empire (1996) was a multimedia project set between the empire strikes back and return of the jedi that included a novel by steve perry, a comic book series, a video game, and action figures.\n[104][105] the force unleashed (2008–2010) was a similar project set between revenge of the sith and a new hope that included a novel, a 2008 video game and its 2010 sequel, a graphic novel, a role-playing game supplement, and toys.\n[178][179]\n\nthe success of the star wars films led the franchise to become one of the most merchandised franchises in the world.\nwhile filming the original 1977 film, george lucas decided to take a $500,000 pay cut to his salary as director in exchange for full ownership of the franchise's merchandising rights.\nby 1987, the first three films have made us$2.6 billion in merchandising revenue.\n[180] by 2012, the first six films produced approximately us$20 billion in merchandising revenue.\n[181]\n\nkenner made the first star wars action figures to coincide with the release of the original film, and today the original figures are highly valuable.\nsince the 1990s, hasbro holds the rights to create action figures based on the saga.\npez dispensers began to be produced in 1997.\n[182] star wars was the first intellectual property to be licensed in lego history.\n[183] lego has produced animated parody short films and mini-series to promote their star wars sets.\n[184] the lego star wars video games are critically acclaimed bestsellers.\n[185][186]\n\nin 1977, the board game star wars: escape from the death star was released.\n[187][j] a star wars monopoly and themed versions of trivial pursuit and battleship were released in 1997, with updated versions released in subsequent years.\nthe board game risk has been adapted in two editions by hasbro: the clone wars edition (2005)[189] and the original trilogy edition (2006).\n[190] three star wars tabletop role-playing games have been developed: a version by west end games in the 1980s and 1990s, one by wizards of the coast in the 2000s, and one by fantasy flight games in the 2010s.\nstar wars trading cards have been published since the first \"blue\" series, by topps, in 1977.\n[191] dozens of series have been produced, with topps being the licensed creator in the united states.\neach card series are of film stills or original art.\nmany of the cards have become highly collectible with some very rare \"promos\", such as the 1993 galaxy series ii \"floating yoda\" p3 card often commanding us$1,000 or more.\nwhile most \"base\" or \"common card\" sets are plentiful, many \"insert\" or \"chase cards\" are very rare.\n[192] from 1995 until 2001, decipher, inc. had the license for, created, and produced the star wars customizable card game.\npolitical science has been an important element of star wars since the franchise launched in 1977, focusing on a struggle between democracy and dictatorship.\nbattles featuring the ewoks and gungans against the empire and trade federation, respectively, represent the clash between a primitive society and a more advanced one, similar to the vietnam-american war.\n[204][205] darth vader's design was initially inspired by samurai armor, and also incorporated a german military helmet.\n[206][207] originally, lucas conceived of the sith as a group that served the emperor in the same way that the schutzstaffel served adolf hitler; this was condensed into one character in the form of vader.\n[208] stormtroopers borrow the name of world war i german \"shock\" troopers.\nimperial officers wear uniforms resembling those of german forces during world war ii,[209] and political and security officers resemble the black-clad ss down to the stylized silver death's head on their caps.\nworld war ii terms were used for names in the films; e.g.\nthe planets kessel (a term that refers to a group of encircled forces) and hoth (after a german general who served on the snow-laden eastern front).\n[210] shots of the commanders looking through at-at walker viewscreens in the empire strikes back resemble tank interiors,[211] and space battles in the original film were based on world war i and world war ii dogfights.\n[212]\n\npalpatine being a chancellor before becoming the emperor in the prequel trilogy alludes to hitler's role before appointing himself führer.\n[209] lucas has also drawn parallels to historical dictators such as julius caesar, napoleon bonaparte, and politicians like richard nixon.\n[213][214][k] the great jedi purge mirrors the events of the night of the long knives.\n[216] the corruption of the galactic republic is modeled after the fall of the democratic roman republic and the formation of an empire.\n[217][218]\n\non the inspiration for the first order formed \"from the ashes of the empire\", the force awakens director j. j. abrams spoke of conversations the writers had about how the nazis could have escaped to argentina after wwii and \"started working together again.\n\"[89]\n\nthe original star wars film was a huge success for 20th century fox, and was credited for reinvigorating the company.\nwithin three weeks of the film's release, the studio's stock price doubled to a record high.\nprior to 1977, 20th century fox's greatest annual profits were $37 million, while in 1977, the company broke that record by posting a profit of $79 million.\n[212] the franchise helped fox to change from an almost bankrupt production company to a thriving media conglomerate.\n[231]\n\nstar wars fundamentally changed the aesthetics and narratives of hollywood films, switching the focus of hollywood-made films from deep, meaningful stories based on dramatic conflict, themes and irony to sprawling special-effects-laden blockbusters, as well as changing the hollywood film industry in fundamental ways.\nbefore star wars, special effects in films had not appreciably advanced since the 1950s.\n[232] the commercial success of star wars created a boom in state-of-the-art special effects in the late 1970s.\n[231] along with jaws, star wars started the tradition of the summer blockbuster film in the entertainment industry, where films open on many screens at the same time and profitable franchises are important.\n[233][223] it created the model for the major film trilogy and showed that merchandising rights on a film could generate more money than the film itself did.\n[222]\n\nfilm critic roger ebert wrote in his book the great movies, \"like the birth of a nation and citizen kane, star wars was a technical watershed that influenced many of the movies that came after.\"\nit began a new generation of special effects and high-energy motion pictures.\nthe film was one of the first films to link genres together to invent a new, high-concept genre for filmmakers to build upon.\n[234] finally, along with steven spielberg's jaws, it shifted the film industry's focus away from personal filmmaking of the 1970s and towards fast-paced, big-budget blockbusters for younger audiences.\n[212][235][236]\n\nsome critics have blamed star wars and jaws for \"ruining\" hollywood by shifting its focus from \"sophisticated\" films such as the godfather, taxi driver, and annie hall to films about spectacle and juvenile fantasy, and for the industry shift from stand-alone, one and done films, towards blockbuster franchises with multiple sequels and prequels.\n[237] one such critic, peter biskind, complained, \"when all was said and done, lucas and spielberg returned the 1970s audience, grown sophisticated on a diet of european and new hollywood films, to the simplicities of the pre-1960s golden age of movies... they marched backward through the looking-glass.\n\"[237][238] in an opposing view, tom shone wrote that through star wars and jaws, lucas and spielberg \"didn't betray cinema at all: they plugged it back into the grid, returning the medium to its roots as a carnival sideshow, a magic act, one big special effect\", which was \"a kind of rebirth\".\n[236]\n\nthe original star wars trilogy is widely considered one of the best film trilogies in history.\n[239] numerous filmmakers have been influenced by star wars, including damon lindelof, dean devlin, roland emmerich, john lasseter,[240] david fincher, joss whedon, john singleton, kevin smith,[234] and later star wars directors j. j. abrams and gareth edwards.\n[241] lucas's concept of a \"used universe\" particularly influenced ridley scott's blade runner (1982) and alien (1979), james cameron's aliens (1986) as well as the terminator (1984), george miller's mad max 2 (1981), and peter jackson's the lord of the rings trilogy (2001–2003).\n[234] christopher nolan cited star wars as an influence when making the 2010 blockbuster film inception.\n[242]\n\nthe star wars saga has inspired many fans to create their own non-canon material set in the star wars galaxy.\nin recent years, this has ranged from writing fan fiction to creating fan films.\nin 2002, lucasfilm sponsored the first annual official star wars fan film awards, officially recognizing filmmakers and the genre.\nbecause of concerns over potential copyright and trademark issues, however, the contest was initially open only to parodies, mockumentaries, and documentaries.\nfan fiction films set in the star wars universe were originally ineligible, but in 2007, lucasfilm changed the submission standards to allow in-universe fiction entries.\n[243] lucasfilm has allowed but not endorsed the creation of fan fiction, as long as it does not attempt to make a profit.\n[244]\n\nas the characters and the storyline of the original trilogy are so well known, educators have used the films in the classroom as a learning resource.\nfor example, a project in western australia honed elementary school students storytelling skills by role-playing action scenes from the movies and later creating props and audio/visual scenery to enhance their performance.\n[245]  others have used the films to encourage second-level students to integrate technology in the science classroom by making prototype lightsabers.\n[246] similarly, psychiatrists in new zealand and the us have advocated their use in the university classroom to explain different types of psychopathology.\n[247][248]\n"
     ]
    }
   ],
   "source": [
    "print(\"printing lists in new line\") \n",
    "print(*sent_tokens, sep = \"\\n\")"
   ]
  },
  {
   "cell_type": "code",
   "execution_count": 14,
   "metadata": {},
   "outputs": [],
   "source": [
    "word_tokens=nltk.word_tokenize(raw_data)\n",
    "#print(word_tokens)"
   ]
  },
  {
   "cell_type": "code",
   "execution_count": 15,
   "metadata": {},
   "outputs": [],
   "source": [
    "#print(len(sent_tokens), len(word_tokens))"
   ]
  },
  {
   "cell_type": "code",
   "execution_count": 16,
   "metadata": {},
   "outputs": [],
   "source": [
    "lemmer = nltk.stem.WordNetLemmatizer() #Initiate lemmer class. WordNet is a semantically-oriented dictionary of English included in NLTK.\n",
    "def LemTokens(tokens):\n",
    "    return [lemmer.lemmatize(token) for token in tokens]"
   ]
  },
  {
   "cell_type": "code",
   "execution_count": 17,
   "metadata": {},
   "outputs": [],
   "source": [
    "remove_punct_dict = dict((ord(punct), None) for punct in string.punctuation)\n",
    "def LemNormalize(text):\n",
    "    return LemTokens(nltk.word_tokenize(text.lower().translate(remove_punct_dict))) #see previous section 1.2.5 lemmatization"
   ]
  },
  {
   "cell_type": "code",
   "execution_count": 18,
   "metadata": {},
   "outputs": [],
   "source": [
    "GREETING_INPUTS = [\"hello\", \"hi\", \"greetings\", \"sup\", \"what's up\",\"hey\", \"hey there\"]\n",
    "GREETING_RESPONSES = [\"hi\", \"hey\", \"*nods*\", \"hi there\", \"hello\", \"I am glad! You are talking to me\"]"
   ]
  },
  {
   "cell_type": "code",
   "execution_count": 19,
   "metadata": {},
   "outputs": [],
   "source": [
    "def greeting(sentence):\n",
    "    for word in sentence.split(): # Looks at each word in your sentence\n",
    "        if word.lower() in GREETING_INPUTS: # checks if the word matches a GREETING_INPUT\n",
    "            return random.choice(GREETING_RESPONSES) # replies with a GREETING_RESPONSE"
   ]
  },
  {
   "cell_type": "code",
   "execution_count": 20,
   "metadata": {},
   "outputs": [],
   "source": [
    "def response(user_response):\n",
    "    \n",
    "    robo_response='' # initialize a variable to contain string\n",
    "    sent_tokens.append(user_response) #add user response to sent_tokens\n",
    "    TfidfVec = TfidfVectorizer(tokenizer=LemNormalize, stop_words='english') \n",
    "    tfidf = TfidfVec.fit_transform(sent_tokens) #get tfidf value\n",
    "    vals = cosine_similarity(tfidf[-1], tfidf) #get cosine similarity value\n",
    "    idx=vals.argsort()[0][-2] \n",
    "    flat = vals.flatten() \n",
    "    flat.sort() #sort in ascending order\n",
    "    req_tfidf = flat[-2] \n",
    "    \n",
    "    if(req_tfidf==0):\n",
    "        robo_response=robo_response+\"I am sorry! I don't understand you\"\n",
    "        return robo_response\n",
    "    else:\n",
    "        robo_response = robo_response+sent_tokens[idx]\n",
    "        return robo_response"
   ]
  },
  {
   "cell_type": "code",
   "execution_count": 21,
   "metadata": {},
   "outputs": [
    {
     "output_type": "execute_result",
     "data": {
      "text/plain": [
       "'2021-06-30 08:45:41'"
      ]
     },
     "metadata": {},
     "execution_count": 21
    }
   ],
   "source": [
    "import datetime\n",
    "\n",
    "def tell_time(sentence):\n",
    "    for word in sentence.split():\n",
    "        # your code here\n",
    "            currentdt = datetime.datetime.now()\n",
    "            return currentdt.strftime(\"%Y-%m-%d %H:%M:%S\")\n",
    "\n",
    "tell_time('time')"
   ]
  },
  {
   "cell_type": "code",
   "execution_count": null,
   "metadata": {},
   "outputs": [],
   "source": [
    "flag=True\n",
    "print(\"CATHY: My name is Cathy. I will answer your queries. If you want to exit, type Bye!\")\n",
    "while(flag==True):\n",
    "    user_response = input()\n",
    "    user_response=user_response.lower()\n",
    "    if(user_response!='bye'):\n",
    "        if(user_response=='thanks' or user_response=='thank you' ):\n",
    "            flag=False\n",
    "            print(\"CATHY: You are welcome..\")\n",
    "        else:\n",
    "            if(greeting(user_response)!=None):\n",
    "                print(\"CATHY: \"+greeting(user_response))\n",
    "            else:\n",
    "                print(\"CATHY: \",end=\"\")\n",
    "                print(response(user_response))\n",
    "                sent_tokens.remove(user_response)\n",
    "    else:\n",
    "        flag=False\n",
    "        print(\"CATHY: Bye! take care..\")"
   ]
  }
 ],
 "metadata": {
  "kernelspec": {
   "name": "python3",
   "display_name": "Python 3.8.6 64-bit"
  },
  "language_info": {
   "codemirror_mode": {
    "name": "ipython",
    "version": 3
   },
   "file_extension": ".py",
   "mimetype": "text/x-python",
   "name": "python",
   "nbconvert_exporter": "python",
   "pygments_lexer": "ipython3",
   "version": "3.8.6"
  },
  "interpreter": {
   "hash": "916dbcbb3f70747c44a77c7bcd40155683ae19c65e1c03b4aa3499c5328201f1"
  }
 },
 "nbformat": 4,
 "nbformat_minor": 5
}